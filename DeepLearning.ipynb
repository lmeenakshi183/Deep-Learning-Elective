{
  "nbformat": 4,
  "nbformat_minor": 0,
  "metadata": {
    "colab": {
      "name": "DeepLearning.ipynb",
      "provenance": [],
      "collapsed_sections": [],
      "authorship_tag": "ABX9TyNuP6Jne8ovkjG1NqvZ0NsR",
      "include_colab_link": true
    },
    "kernelspec": {
      "name": "python3",
      "display_name": "Python 3"
    }
  },
  "cells": [
    {
      "cell_type": "markdown",
      "metadata": {
        "id": "view-in-github",
        "colab_type": "text"
      },
      "source": [
        "<a href=\"https://colab.research.google.com/github/lmeenakshi183/Deep-Learning-Elective/blob/main/DeepLearning.ipynb\" target=\"_parent\"><img src=\"https://colab.research.google.com/assets/colab-badge.svg\" alt=\"Open In Colab\"/></a>"
      ]
    },
    {
      "cell_type": "code",
      "metadata": {
        "id": "heKR7CIQV3vU"
      },
      "source": [
        "import numpy as np\n",
        "import math"
      ],
      "execution_count": null,
      "outputs": []
    },
    {
      "cell_type": "markdown",
      "metadata": {
        "id": "HX47bVqpUrMk"
      },
      "source": [
        "## **Hebb Rule**"
      ]
    },
    {
      "cell_type": "markdown",
      "metadata": {
        "id": "cVjSQ08GUxyv"
      },
      "source": [
        "*For logic gates:*"
      ]
    },
    {
      "cell_type": "code",
      "metadata": {
        "id": "UXUQnPFUoQJV"
      },
      "source": [
        "def hebbrule():   \n",
        "  x1=[1,-1]\n",
        "  x2=[1,-1]\n",
        "  (w1,w2,w0)=(0,0,0)\n",
        "  for i in range(0,2):\n",
        "    for j in range(0,2):\n",
        "      if (x1[i]==1 or x2[j]==1): #or gate\n",
        "        y=1\n",
        "      else:\n",
        "        y=-1\n",
        "      w1+=x1[i]*y\n",
        "      w2+=x2[j]*y\n",
        "      w0+=y\n",
        "  print('Final weights are',w1,w2,w0)\n",
        "\n"
      ],
      "execution_count": null,
      "outputs": []
    },
    {
      "cell_type": "code",
      "metadata": {
        "id": "F7alxvY3oUlT",
        "colab": {
          "base_uri": "https://localhost:8080/"
        },
        "outputId": "d6a1f699-b6a5-44b8-a704-0d12b048e650"
      },
      "source": [
        "hebbrule()"
      ],
      "execution_count": null,
      "outputs": [
        {
          "output_type": "stream",
          "text": [
            "Final weights are 2 2 2\n"
          ],
          "name": "stdout"
        }
      ]
    },
    {
      "cell_type": "markdown",
      "metadata": {
        "id": "a2nGXzDaU6jW"
      },
      "source": [
        "*For recognition of 4 letters (with 9 neurons):*"
      ]
    },
    {
      "cell_type": "code",
      "metadata": {
        "id": "hC36Hldcqor3"
      },
      "source": [
        "\n",
        "def alphhebb():   \n",
        "  w1=[0,0,0,0,0,0,0,0,0]\n",
        "  w2=[0,0,0,0,0,0,0,0,0]\n",
        "  print('enter first letter')\n",
        "  alph1=list(map(int,input().strip().split(',')))[:9]\n",
        "  print('enter second letter')\n",
        "  alph2=list(map(int,input().strip().split(',')))[:9]\n",
        "  print('enter third letter')\n",
        "  alph3=list(map(int,input().strip().split(',')))[:9]\n",
        "  print('enter fourth letter')\n",
        "  alph4=list(map(int,input().strip().split(',')))[:9]\n",
        "  for m in range(0,9):\n",
        "        w1[m]+=alph1[m]*1\n",
        "        w2[m]+=alph1[m]*1\n",
        "  for m in range(0,9):\n",
        "        w1[m]+=alph2[m]*1\n",
        "        w2[m]+=alph2[m]*-1\n",
        "  for m in range(0,9):\n",
        "        w1[m]+=alph3[m]*-1\n",
        "        w2[m]+=alph3[m]*1\n",
        "  for m in range(0,9):\n",
        "        w1[m]+=alph4[m]*-1\n",
        "        w2[m]+=alph4[m]*-1\n",
        "  print('final weights are-')\n",
        "  print(w1)\n",
        "  print(w2)\n",
        "  \n",
        "  \n",
        "\n",
        "      \n",
        "    "
      ],
      "execution_count": null,
      "outputs": []
    },
    {
      "cell_type": "code",
      "metadata": {
        "id": "nQJjFtz5-AX1",
        "colab": {
          "base_uri": "https://localhost:8080/"
        },
        "outputId": "9436ede1-40b0-40d0-d30a-58d571fec835"
      },
      "source": [
        "alphhebb()"
      ],
      "execution_count": null,
      "outputs": [
        {
          "output_type": "stream",
          "text": [
            "enter first letter\n",
            "1,1,1,1,1,-1,1,1,1\n",
            "enter second letter\n",
            "1,-1,1,-1,1,-1,1,-1,1\n",
            "enter third letter\n",
            "1,-1,-1,1,1,1,1,1,1\n",
            "enter fourth letter\n",
            "1,-1,1,1,1,1,1,-1,1\n",
            "final weights are-\n",
            "[0, 2, 2, -2, 0, -4, 0, 0, 0]\n",
            "[0, 2, -2, 2, 0, 0, 0, 4, 0]\n"
          ],
          "name": "stdout"
        }
      ]
    },
    {
      "cell_type": "code",
      "metadata": {
        "id": "0DfgflT_9lGA"
      },
      "source": [
        "# to give a test input, add the following code at the end\n",
        "  print('')\n",
        "  print('enter test letter')\n",
        "  testletter=list(map(int,input().strip().split(',')))[:9]\n",
        "  for m in range(0,9):\n",
        "    yin1+=testletter[m]*w1[m]\n",
        "    yin2+=testletter[m]*w2[m]\n",
        "  if (yin1>0):\n",
        "    y1=1\n",
        "  else:\n",
        "    y1=-1\n",
        "  if (yin2>0):\n",
        "    y2=1\n",
        "  else:\n",
        "    y2=-1\n",
        "  print(y1,y2)"
      ],
      "execution_count": null,
      "outputs": []
    },
    {
      "cell_type": "markdown",
      "metadata": {
        "id": "1wh3M-jNUPTw"
      },
      "source": [
        "*For any number of inputs or neurons:*"
      ]
    },
    {
      "cell_type": "code",
      "metadata": {
        "id": "IZ2ZGQ0TUVbi"
      },
      "source": [
        "def hebbrulegen():\n",
        "  n=int(input('enter the number of inputs:'))\n",
        "  nrn=int(input('enter the number of input neurons:'))\n",
        "  alph=np.empty(nrn,dtype=int)\n",
        "  for i in range(0,n):\n",
        "    alph=np.vstack([alph,list(map(int,input().strip().split(',')))[:nrn]])\n",
        "  alph=np.delete(alph,0,axis=0)\n",
        "  i=0\n",
        "  while(i<n):\n",
        "    if not (n>2**i and n<=2**(i+1)):\n",
        "      i=i+1\n",
        "    else:\n",
        "      m=i+1\n",
        "      break\n",
        "  y=createy(m)\n",
        "  y=y[:n,:]\n",
        "  w=np.dot(y.T,alph)\n",
        "  print('final weights are: ')\n",
        "  print(w)"
      ],
      "execution_count": null,
      "outputs": []
    },
    {
      "cell_type": "code",
      "metadata": {
        "id": "7CywpMuBUZgx"
      },
      "source": [
        "def createy(x):\n",
        "  no=2**x\n",
        "  a=np.zeros(shape=[no,x],dtype=int)\n",
        "  for i in range(0,no):\n",
        "    binary=bin(no-i-1).replace(\"0b\",\"\").zfill(x)\n",
        "    for j in range(x,0,-1):\n",
        "      a[i,j-1]=int(binary[j-1])\n",
        "  a=np.where(a==0,-1,a)\n",
        "  return a"
      ],
      "execution_count": null,
      "outputs": []
    },
    {
      "cell_type": "code",
      "metadata": {
        "colab": {
          "base_uri": "https://localhost:8080/"
        },
        "id": "q42-UJ4EVu7K",
        "outputId": "c649f6c3-d2e3-43c3-ac3d-ad56665d0fd4"
      },
      "source": [
        "hebbrulegen()"
      ],
      "execution_count": null,
      "outputs": [
        {
          "output_type": "stream",
          "text": [
            "enter the number of inputs:4\n",
            "enter the number of input neurons:9\n",
            "1,1,1,1,1,-1,1,1,1\n",
            "1,-1,1,-1,1,-1,1,-1,1\n",
            "1,-1,-1,1,1,1,1,1,1\n",
            "1,-1,1,1,1,1,1,-1,1\n",
            "final weights are: \n",
            "[[ 0  2  2 -2  0 -4  0  0  0]\n",
            " [ 0  2 -2  2  0  0  0  4  0]]\n"
          ],
          "name": "stdout"
        }
      ]
    },
    {
      "cell_type": "markdown",
      "metadata": {
        "id": "wRg7DBG-VVrs"
      },
      "source": [
        "## **Backpropagation**"
      ]
    },
    {
      "cell_type": "markdown",
      "metadata": {
        "id": "J-iU08pPVk4a"
      },
      "source": [
        "*Specific to question solved in MATLAB:*"
      ]
    },
    {
      "cell_type": "code",
      "metadata": {
        "id": "wk68tqaGVYfv"
      },
      "source": [
        "def backprop():\n",
        "  #initialization\n",
        "  w=np.array([-1,1,2])\n",
        "  w0=np.array([-1])\n",
        "  v=np.array([[2,1,0], [1,2,2],[0,2,1]])\n",
        "  v0=np.array([0,0,-1])\n",
        "  x=np.array([0.6,0.8,0])\n",
        "  t=0.9\n",
        "  alpha=0.3\n",
        "  z=np.empty(3)\n",
        "  delt=np.empty(3)\n",
        "  #feed forward\n",
        "  count=1\n",
        "  epoch=0\n",
        "  while count is 1:\n",
        "    error=0\n",
        "    zin=np.add(np.dot(v.T,x.T),v0.T)\n",
        "    for i in range (0,3):\n",
        "      z[i]=1/(1+math.exp(-1*zin[i]))\n",
        "    yin=np.add(np.dot(w,z.T),w0)\n",
        "    y=1/(1+math.exp(-1*yin))\n",
        "  #backpropagation of error\n",
        "    sdel=(t-y)*y*(1-y)\n",
        "    delin=np.dot(sdel,w)\n",
        "    for i in range (0,3):\n",
        "      delt[i]=delin[i]*z[i]*(1-z[i])\n",
        "  #updating weights and bias\n",
        "    delv=alpha*np.dot(x.T,delt)\n",
        "    delv0=alpha*delt\n",
        "    v=v+delv\n",
        "    v0=v0+delv0\n",
        "    delw=alpha*np.dot(sdel,z)\n",
        "    delw0=alpha*sdel\n",
        "    w=np.add(w,delw)\n",
        "    w0=np.add(w0,delw0)\n",
        "    error=error+(t-y)**2\n",
        "    if error<0.005:\n",
        "      count=0\n",
        "    else:\n",
        "      epoch=epoch+1\n",
        "  print(epoch)\n",
        "  print(v)\n",
        "  print(error)\n",
        "  print(w)"
      ],
      "execution_count": null,
      "outputs": []
    },
    {
      "cell_type": "code",
      "metadata": {
        "colab": {
          "base_uri": "https://localhost:8080/"
        },
        "id": "LDgJCSXaWqbY",
        "outputId": "60b23ae5-2e25-4b93-b986-6ce0e514148d"
      },
      "source": [
        "backprop()"
      ],
      "execution_count": null,
      "outputs": [
        {
          "output_type": "stream",
          "text": [
            "45\n",
            "[[2.01141792 1.01141792 0.01141792]\n",
            " [1.01141792 2.01141792 2.01141792]\n",
            " [0.01141792 2.01141792 1.01141792]]\n",
            "0.004951783877426604\n",
            "[-0.65767181  1.35123096  2.25948904]\n"
          ],
          "name": "stdout"
        }
      ]
    },
    {
      "cell_type": "code",
      "metadata": {
        "id": "scLNN3deWvpI"
      },
      "source": [
        ""
      ],
      "execution_count": null,
      "outputs": []
    }
  ]
}